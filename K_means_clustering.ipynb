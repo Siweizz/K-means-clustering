{
  "nbformat": 4,
  "nbformat_minor": 0,
  "metadata": {
    "colab": {
      "name": "K-means clustering.ipynb",
      "provenance": [],
      "collapsed_sections": []
    },
    "kernelspec": {
      "display_name": "Python 3",
      "language": "python",
      "name": "python3"
    },
    "language_info": {
      "codemirror_mode": {
        "name": "ipython",
        "version": 3
      },
      "file_extension": ".py",
      "mimetype": "text/x-python",
      "name": "python",
      "nbconvert_exporter": "python",
      "pygments_lexer": "ipython3",
      "version": "3.7.4"
    }
  },
  "cells": [
    {
      "cell_type": "markdown",
      "metadata": {
        "id": "1u9dOaIkHPj5"
      },
      "source": [
        "## K-means Clustering "
      ]
    },
    {
      "cell_type": "markdown",
      "metadata": {
        "id": "h5jTKlufHPj6"
      },
      "source": [
        "### K-Means Clustering\n",
        "For this question, you will use the **K-Means** clustering algorithm to cluster the yeast dataset. You will experiment with different k values, and report the Sum of Squared Errors (see below) for each k.\n",
        "\n"
      ]
    },
    {
      "cell_type": "markdown",
      "metadata": {
        "id": "F-_TGmwAHPj6"
      },
      "source": [
        "### Sum of Squared Errors (SSE)\n",
        "Assume that we have a clustering for our data $X$ having $K$ clusters. Each cluster is characterized by it’s centroid $C_k$ . The sum of squared error criterion for one cluster can be defined as:\n",
        "$$SSE(X,C =k)= \\sum_{x_i \\in cluster_k}||x_i −C_k||2 $$ \n",
        "then, the overall SSE for the K clusters can be calculated as:\n",
        "\n",
        "$$ SSE(X)= \\sum_{k=1}^K SSE(X,C=k)$$\n",
        "SSE provides a notion of how compact the clusters are and we are going to favor clusters that are more compact, hence we will look for clusterings that minimize SSE. This is an internal clustering quality criterion as we can estimate it using just the cluster labels."
      ]
    },
    {
      "cell_type": "code",
      "metadata": {
        "id": "1YppAr1nZQYT"
      },
      "source": [
        "# Do not change anything in this cell.\n",
        "import numpy as np\n",
        "from collections import Counter\n",
        "from sklearn import datasets\n",
        "from sklearn.model_selection import train_test_split\n",
        "import numpy\n",
        "import pandas as pd\n",
        "import math\n",
        "import copy\n",
        "import matplotlib.pyplot as plt"
      ],
      "execution_count": null,
      "outputs": []
    },
    {
      "cell_type": "code",
      "metadata": {
        "id": "dtEy6uyGHPj7"
      },
      "source": [
        "# =============================================================================#\n",
        "# Load a CSV file\n",
        "def load_csv(filename):\n",
        "    data = pd.read_csv(filename, header=None)\n",
        "    dataset = data.values\n",
        "    return dataset"
      ],
      "execution_count": null,
      "outputs": []
    },
    {
      "cell_type": "code",
      "metadata": {
        "id": "EdjsvUuVHPj7"
      },
      "source": [
        "# =============================================================================#\n",
        "'''\n",
        "Initialize the k centroids.\n",
        "'''\n",
        "def initialize_centroids(k, dataset):\n",
        "    centroids = []\n",
        "    for i in range(k):\n",
        "        centroids.append(dataset[i])\n",
        "    return centroids\n"
      ],
      "execution_count": null,
      "outputs": []
    },
    {
      "cell_type": "code",
      "metadata": {
        "id": "pQ0C6gVmHPj7"
      },
      "source": [
        "# =============================================================================#\n",
        "def calculate_znk(data, centroids, k, n):\n",
        "    '''\n",
        "    Assign each point to the closest centroid, using a Matrix Z to represent the assignments\n",
        "    '''\n",
        "    znk = numpy.array([[0 for i in range(k)] for j in range(n)])\n",
        "    for i in range(n):\n",
        "        distance_to_cen = []\n",
        "        for j in range(k):\n",
        "            # calculate the distance squared\n",
        "            distance = 0\n",
        "            for m in range(data.shape[1]):\n",
        "                distance += (data[i, m] - centroids[j][m]) ** 2\n",
        "            distance_to_cen.append(numpy.sqrt(distance))\n",
        "        # assign the closer centroid index to be 1\n",
        "        znk[i, numpy.argmin(distance_to_cen)] = 1\n",
        "    return znk"
      ],
      "execution_count": null,
      "outputs": []
    },
    {
      "cell_type": "code",
      "metadata": {
        "id": "V79d47xbHPj8"
      },
      "source": [
        "# =============================================================================#\n",
        "def calculate_centroids_and_SSE(k, znk, data, cen):\n",
        "    '''\n",
        "    Calculate the k centroids and the SSE\n",
        "    '''\n",
        "    centroids = []\n",
        "    #clusters = []\n",
        "    for i in range(k):\n",
        "        cluster_i = numpy.where(znk[:, i] == 1)[0]\n",
        "        #clusters.append(len(cluster_i))\n",
        "        centroid = []\n",
        "        for j in range(data.shape[1]):\n",
        "            if len(cluster_i) == 0:\n",
        "                centroid = cen[i]\n",
        "                break\n",
        "            else:\n",
        "                centroid.append(sum(data[cluster_i, j]) / len(cluster_i))\n",
        "        centroids.append(centroid)\n",
        "\n",
        "    total_SSE = 0\n",
        "    for i in range(data.shape[0]):\n",
        "        for j in range(k):\n",
        "            # calculate the distance squared\n",
        "            if not centroids[j][0]:\n",
        "                continue\n",
        "            total_SSE += znk[i, j] * calculate_d_squared(data[i, :], centroids[j])\n",
        "    return centroids, total_SSE"
      ],
      "execution_count": null,
      "outputs": []
    },
    {
      "cell_type": "code",
      "metadata": {
        "id": "LYHbBCionJLp"
      },
      "source": [
        "# This function calculate the squared distance between two vectors(points)\n",
        "def calculate_d_squared(x, centroid):\n",
        "    distance = 0\n",
        "    for i in range(x.shape[0]):\n",
        "        distance += (x[i] - centroid[i]) ** 2\n",
        "    return distance"
      ],
      "execution_count": null,
      "outputs": []
    },
    {
      "cell_type": "code",
      "metadata": {
        "id": "BIccNpEXHPj8"
      },
      "source": [
        "# =============================================================================#\n",
        "def k_means_algorithm(dataset, k, max_iterations, thresh = 0.01):\n",
        "    '''\n",
        "    Do k-means by iteratively calculating the centroids and assigning the data points to one of the centroids\n",
        "    until either we reach the max_iter or SSE does not decrease by more than the threshold.\n",
        "    Do not use the last column, as they are the labels.\n",
        "    '''\n",
        "    centroids = initialize_centroids(k, dataset)\n",
        "    n = len(dataset)\n",
        "    data = dataset[:, 0:dataset.shape[1] - 1]\n",
        "    cen = []\n",
        "    prev_SSE = math.inf\n",
        "    for i in range(max_iterations):\n",
        "        znk = calculate_znk(data, centroids, k, n)\n",
        "        centroids, total_SSE = calculate_centroids_and_SSE(k, znk, data, centroids)\n",
        "        if prev_SSE - total_SSE <= thresh:\n",
        "            #stop when SSE does not decrease by more than the threshold\n",
        "            return prev_SSE, znk, centroids\n",
        "        cen.append(centroids)\n",
        "        #data.append(total_SSE)\n",
        "        prev_SSE = total_SSE\n",
        "    return prev_SSE, znk, centroids\n",
        "\n"
      ],
      "execution_count": null,
      "outputs": []
    },
    {
      "cell_type": "code",
      "metadata": {
        "colab": {
          "base_uri": "https://localhost:8080/",
          "height": 476
        },
        "id": "ulRKZhFsHPj8",
        "outputId": "23021255-fc37-49ed-ac3e-24a768c0ceb9"
      },
      "source": [
        "# =============================================================================#\n",
        "# MAIN FUNCTION, DO NOT MODIFY\n",
        "dataset_name = 'yeastData.csv'\n",
        "# Careful, the dataset also consists of labels\n",
        "dataset = load_csv(dataset_name)\n",
        "max_iterations = 1000\n",
        "sum_sq_error = []\n",
        "\n",
        "\n",
        "K = numpy.arange(2, 20, 2)\n",
        "for k in K:\n",
        "    SSE, znk, centroids = k_means_algorithm(dataset, k, max_iterations)\n",
        "    sum_sq_error.append(SSE)\n",
        "    print(\"SSE for k= \", end='')\n",
        "    print(k, end='')\n",
        "    print(' is ', end='')\n",
        "    print(SSE)\n",
        "\n",
        "\n",
        "print(\"-\" * 50)\n",
        "plt.plot(K, sum_sq_error)\n",
        "plt.title(\"SSE against K: Yeast Dataset\")\n",
        "plt.xlabel(\"K\")\n",
        "plt.ylabel(\"SSE\")\n",
        "plt.show()\n"
      ],
      "execution_count": null,
      "outputs": [
        {
          "output_type": "stream",
          "text": [
            "SSE for k= 2 is 94.16634322044357\n",
            "SSE for k= 4 is 70.77402837824934\n",
            "SSE for k= 6 is 54.78035253521831\n",
            "SSE for k= 8 is 48.80812672080955\n",
            "SSE for k= 10 is 44.99032745150484\n",
            "SSE for k= 12 is 41.523432060297715\n",
            "SSE for k= 14 is 39.80860317468567\n",
            "SSE for k= 16 is 37.6736423178586\n",
            "SSE for k= 18 is 36.30823794193829\n",
            "--------------------------------------------------\n"
          ],
          "name": "stdout"
        },
        {
          "output_type": "display_data",
          "data": {
            "image/png": "[encoded data removed]",
            "text/plain": [
              "<Figure size 432x288 with 1 Axes>"
            ]
          },
          "metadata": {
            "tags": [],
            "needs_background": "light"
          }
        }
      ]
    },
    {
      "cell_type": "code",
      "metadata": {
        "id": "NMgLrUCqHPj9"
      },
      "source": [
        ""
      ],
      "execution_count": null,
      "outputs": []
    }
  ]
}